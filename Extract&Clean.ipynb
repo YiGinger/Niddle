{
 "metadata": {
  "name": "",
  "signature": "sha256:2c5aa20acae8d3c18de7ae21e60fef14171e864dc5a44c49c869e3afa062731f"
 },
 "nbformat": 3,
 "nbformat_minor": 0,
 "worksheets": [
  {
   "cells": [
    {
     "cell_type": "code",
     "collapsed": false,
     "input": [
      "import lxml\n",
      "from lxml.html.clean import Cleaner\n",
      "from html2text import html2text\n",
      "import urllib2\n",
      "cleaner = Cleaner()\n",
      "cleaner.javascript = True\n",
      "cleaner.style = True \n",
      "      "
     ],
     "language": "python",
     "metadata": {},
     "outputs": [],
     "prompt_number": 24
    },
    {
     "cell_type": "code",
     "collapsed": false,
     "input": [
      "links=[line.strip() for line in open('url.txt')]\n",
      "test=links[:3]\n",
      "#print test\n",
      "urls=[]\n",
      "for link in links:\n",
      "    name=link+'.txt'\n",
      "    url='https://'+ link\n",
      "    var = urllib2.urlopen(url)\n",
      "    furl=var.geturl()    \n",
      "    \n",
      "   \n",
      "    \n",
      "    \n",
      "    "
     ],
     "language": "python",
     "metadata": {},
     "outputs": [
      {
       "output_type": "stream",
       "stream": "stdout",
       "text": [
        "['www.indeed.com/pagead/clk?mo=r&ad=-6NYlbfkN0CxqcpVj1EFcAZWHx6smIldmHpp1G5t2J748Q_hJLris5SsQUvITOETcAbFcrZLxjacfkSbJFBvudoYn7kyou5ZznveNsQ2UI_PS0mDNuXTjZ5p1bjhe4OJE3AXG12Bnw_RsZ1bDgaf3DIctTfC15X2zXorei_z11mCPqkcDZHYIt_0Ypn_o6LOUEIyucvO0k86EQzJ3K8I8RC3_vVTuEEXGAYoQcMXNYs1fxzb1p_f0PZ6Y4ojm37szWwZE1mFcOM5_S-eHSd9ocjbqrvj_t_9IGHm_qSiM6gi25fKYIE6XxNIwdwpRJcwec51h5GzoMrN8tOd0UxVTsOkQpykk9n9Ik0hsxcmQio_8f9bmF8P9koVPthiIyfBWpOqZJeRjIDS4VDJRY6LtMeMf-bMSMm-HuSpT8NLMz7ue-ltYUN7U4Qu4pGGr9nNA5ScoJjas6pNhEFvlbUoI2n0nCMrybyrrRxEoNd4qsg=&p=1&sk=bebb41335ed80f2a', 'www.indeed.com/pagead/clk?mo=r&ad=-6NYlbfkN0CaLaeO0W0aSDE10oNno4SsRl14ssiVXEJb5QYZji-zanult6NiPwVacXfWuv2RMkub6PA3gH4O4b_xxmd7HPmuQfzsFDtOjJonjrEGXfxAzo2vFg5OnWlYmWOWJsy7z63d748JFA-NJ4hhvMsyCriOjwF_1k8pjdwmyvFU_iiM56MqWQQQZrAOTDeiqV5uOnJZE2WsAMOoyFJ36XiFUNogLEdK7O3N9Q-11if1cgMC1myaTVbOsvNQ0CCV2AaV7mS_7Z9S42U9mJxDFQ5d9bc2aFJK6i3IlPe0IMONf08Idoe1cy3l8xlRk6RiRxFYT9DGgR36KuueopjFdhXG8Yxm_nAAr-i6gqPHBlyKT6aGCVuShv3zrJ3Gb0iwc-TRZRsnclJ6hY7zLHMTOsRVqUqOuV8Fpd_V12pRAvS-DE9M6b2MbA7FLRzL_NY4REiUxkaP9_ToH8hRp-Gafq9hlno3STaMfRjLKYoDQ8MusupmNeDWJXnaai7Y1KB1roJzfG1alTk3cvZwsMQ2XSYvCbbjZTOGtaU5s34UfbaXPZR5sg==&p=2&sk=bebb41335ed80f2a', 'www.indeed.com/rc/clk?jk=31f386f86604c622']\n"
       ]
      },
      {
       "ename": "NameError",
       "evalue": "name 'fopen' is not defined",
       "output_type": "pyerr",
       "traceback": [
        "\u001b[0;31m---------------------------------------------------------------------------\u001b[0m\n\u001b[0;31mNameError\u001b[0m                                 Traceback (most recent call last)",
        "\u001b[0;32m<ipython-input-42-9819ead88021>\u001b[0m in \u001b[0;36m<module>\u001b[0;34m()\u001b[0m\n\u001b[1;32m      8\u001b[0m     \u001b[0mfurl\u001b[0m\u001b[0;34m=\u001b[0m\u001b[0mvar\u001b[0m\u001b[0;34m.\u001b[0m\u001b[0mgeturl\u001b[0m\u001b[0;34m(\u001b[0m\u001b[0;34m)\u001b[0m\u001b[0;34m\u001b[0m\u001b[0m\n\u001b[1;32m      9\u001b[0m     \u001b[0ma\u001b[0m\u001b[0;34m=\u001b[0m\u001b[0mlxml\u001b[0m\u001b[0;34m.\u001b[0m\u001b[0mhtml\u001b[0m\u001b[0;34m.\u001b[0m\u001b[0mtostring\u001b[0m\u001b[0;34m(\u001b[0m\u001b[0mcleaner\u001b[0m\u001b[0;34m.\u001b[0m\u001b[0mclean_html\u001b[0m\u001b[0;34m(\u001b[0m\u001b[0mlxml\u001b[0m\u001b[0;34m.\u001b[0m\u001b[0mhtml\u001b[0m\u001b[0;34m.\u001b[0m\u001b[0mparse\u001b[0m\u001b[0;34m(\u001b[0m\u001b[0mfurl\u001b[0m\u001b[0;34m)\u001b[0m\u001b[0;34m)\u001b[0m\u001b[0;34m)\u001b[0m\u001b[0;34m\u001b[0m\u001b[0m\n\u001b[0;32m---> 10\u001b[0;31m     \u001b[0mtext\u001b[0m\u001b[0;34m=\u001b[0m \u001b[0mfopen\u001b[0m\u001b[0;34m(\u001b[0m\u001b[0mname\u001b[0m\u001b[0;34m,\u001b[0m\u001b[0;34m'w'\u001b[0m\u001b[0;34m)\u001b[0m\u001b[0;34m\u001b[0m\u001b[0m\n\u001b[0m\u001b[1;32m     11\u001b[0m     \u001b[0mtext\u001b[0m\u001b[0;34m.\u001b[0m\u001b[0mwrite\u001b[0m\u001b[0;34m(\u001b[0m\u001b[0mhtml2text\u001b[0m\u001b[0;34m(\u001b[0m\u001b[0ma\u001b[0m\u001b[0;34m)\u001b[0m\u001b[0;34m.\u001b[0m\u001b[0mencode\u001b[0m\u001b[0;34m(\u001b[0m\u001b[0;34m'utf-8'\u001b[0m\u001b[0;34m)\u001b[0m\u001b[0;34m)\u001b[0m\u001b[0;34m\u001b[0m\u001b[0m\n\u001b[1;32m     12\u001b[0m \u001b[0;34m\u001b[0m\u001b[0m\n",
        "\u001b[0;31mNameError\u001b[0m: name 'fopen' is not defined"
       ]
      }
     ],
     "prompt_number": 42
    },
    {
     "cell_type": "code",
     "collapsed": false,
     "input": [
      "links=[line.strip() for line in open('url.txt')]\n",
      "test=links[:3]\n",
      "print test"
     ],
     "language": "python",
     "metadata": {},
     "outputs": [
      {
       "output_type": "stream",
       "stream": "stdout",
       "text": [
        "['www.indeed.com/pagead/clk?mo=r&ad=-6NYlbfkN0CxqcpVj1EFcAZWHx6smIldmHpp1G5t2J748Q_hJLris5SsQUvITOETcAbFcrZLxjacfkSbJFBvudoYn7kyou5ZznveNsQ2UI_PS0mDNuXTjZ5p1bjhe4OJE3AXG12Bnw_RsZ1bDgaf3DIctTfC15X2zXorei_z11mCPqkcDZHYIt_0Ypn_o6LOUEIyucvO0k86EQzJ3K8I8RC3_vVTuEEXGAYoQcMXNYs1fxzb1p_f0PZ6Y4ojm37szWwZE1mFcOM5_S-eHSd9ocjbqrvj_t_9IGHm_qSiM6gi25fKYIE6XxNIwdwpRJcwec51h5GzoMrN8tOd0UxVTsOkQpykk9n9Ik0hsxcmQio_8f9bmF8P9koVPthiIyfBWpOqZJeRjIDS4VDJRY6LtMeMf-bMSMm-HuSpT8NLMz7ue-ltYUN7U4Qu4pGGr9nNA5ScoJjas6pNhEFvlbUoI2n0nCMrybyrrRxEoNd4qsg=&p=1&sk=bebb41335ed80f2a', 'www.indeed.com/pagead/clk?mo=r&ad=-6NYlbfkN0CaLaeO0W0aSDE10oNno4SsRl14ssiVXEJb5QYZji-zanult6NiPwVacXfWuv2RMkub6PA3gH4O4b_xxmd7HPmuQfzsFDtOjJonjrEGXfxAzo2vFg5OnWlYmWOWJsy7z63d748JFA-NJ4hhvMsyCriOjwF_1k8pjdwmyvFU_iiM56MqWQQQZrAOTDeiqV5uOnJZE2WsAMOoyFJ36XiFUNogLEdK7O3N9Q-11if1cgMC1myaTVbOsvNQ0CCV2AaV7mS_7Z9S42U9mJxDFQ5d9bc2aFJK6i3IlPe0IMONf08Idoe1cy3l8xlRk6RiRxFYT9DGgR36KuueopjFdhXG8Yxm_nAAr-i6gqPHBlyKT6aGCVuShv3zrJ3Gb0iwc-TRZRsnclJ6hY7zLHMTOsRVqUqOuV8Fpd_V12pRAvS-DE9M6b2MbA7FLRzL_NY4REiUxkaP9_ToH8hRp-Gafq9hlno3STaMfRjLKYoDQ8MusupmNeDWJXnaai7Y1KB1roJzfG1alTk3cvZwsMQ2XSYvCbbjZTOGtaU5s34UfbaXPZR5sg==&p=2&sk=bebb41335ed80f2a', 'www.indeed.com/rc/clk?jk=31f386f86604c622']\n"
       ]
      }
     ],
     "prompt_number": 28
    },
    {
     "cell_type": "code",
     "collapsed": false,
     "input": [
      "import urllib2\n",
      "var = urllib2.urlopen('https://www.indeed.com/rc/clk?jk=31f386f86604c622')\n",
      "var.geturl()"
     ],
     "language": "python",
     "metadata": {},
     "outputs": [
      {
       "metadata": {},
       "output_type": "pyout",
       "prompt_number": 38,
       "text": [
        "'https://intel.taleo.net/careersection/10000/jobdetail.ftl?job=756849&src=JB-10400'"
       ]
      }
     ],
     "prompt_number": 38
    },
    {
     "cell_type": "code",
     "collapsed": false,
     "input": [],
     "language": "python",
     "metadata": {},
     "outputs": []
    }
   ],
   "metadata": {}
  }
 ]
}